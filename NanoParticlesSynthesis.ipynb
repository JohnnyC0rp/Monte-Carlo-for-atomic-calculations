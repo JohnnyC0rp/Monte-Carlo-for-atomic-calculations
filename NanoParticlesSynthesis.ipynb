{
 "cells": [
  {
   "cell_type": "code",
   "execution_count": null,
   "metadata": {},
   "outputs": [],
   "source": [
    "from FindingBestCrystal import *\n",
    "ITERS = 40000\n",
    "K =   .000000001 \n",
    "T = 1\n",
    "FRAMES = 10\n",
    "ATOMS = 60\n",
    "AFFECTING_RADIUS = 20\n",
    "DIMENSIONS = 2\n",
    "SIZE = (-60,60)\n",
    "\n",
    "find_best_structure(ITERS,K,T,FRAMES,AFFECTING_RADIUS,ATOMS,DIMENSIONS,SIZE)\n"
   ]
  },
  {
   "cell_type": "code",
   "execution_count": null,
   "metadata": {},
   "outputs": [],
   "source": []
  }
 ],
 "metadata": {
  "kernelspec": {
   "display_name": "Python 3.9.9 64-bit",
   "language": "python",
   "name": "python3"
  },
  "language_info": {
   "codemirror_mode": {
    "name": "ipython",
    "version": 3
   },
   "file_extension": ".py",
   "mimetype": "text/x-python",
   "name": "python",
   "nbconvert_exporter": "python",
   "pygments_lexer": "ipython3",
   "version": "3.9.9"
  },
  "orig_nbformat": 4,
  "vscode": {
   "interpreter": {
    "hash": "f97ab369e06558018678e2fa9dfbb90171b01cdb8774ddf6cd687be615e0b18f"
   }
  }
 },
 "nbformat": 4,
 "nbformat_minor": 2
}
