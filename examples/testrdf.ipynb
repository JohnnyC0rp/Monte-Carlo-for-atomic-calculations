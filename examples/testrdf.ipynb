{
 "cells": [
  {
   "cell_type": "code",
   "execution_count": null,
   "metadata": {},
   "outputs": [],
   "source": [
    "import sys\n",
    "sys.path.append(\"../\")\n",
    "\n",
    "from random import random\n",
    "from system import *\n",
    "from atom import Atom \n",
    "\n",
    "atoms = []\n",
    "for x in range(4):\n",
    "    for y in range(4):\n",
    "        atoms.append(Atom([x,y]))\n",
    "\n",
    "system = System(2,float(\"inf\"),atoms)\n",
    "system.colorize_atoms()\n",
    "system.visualize(show=True)\n",
    "system.add_cur_state_to_rdf()\n",
    "system.get_rdf()"
   ]
  },
  {
   "cell_type": "code",
   "execution_count": null,
   "metadata": {},
   "outputs": [],
   "source": []
  }
 ],
 "metadata": {
  "kernelspec": {
   "display_name": "Python 3.9.9 64-bit",
   "language": "python",
   "name": "python3"
  },
  "language_info": {
   "codemirror_mode": {
    "name": "ipython",
    "version": 3
   },
   "file_extension": ".py",
   "mimetype": "text/x-python",
   "name": "python",
   "nbconvert_exporter": "python",
   "pygments_lexer": "ipython3",
   "version": "3.9.9"
  },
  "vscode": {
   "interpreter": {
    "hash": "f97ab369e06558018678e2fa9dfbb90171b01cdb8774ddf6cd687be615e0b18f"
   }
  }
 },
 "nbformat": 4,
 "nbformat_minor": 2
}
