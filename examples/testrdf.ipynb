{
 "cells": [
  {
   "cell_type": "code",
   "execution_count": null,
   "metadata": {},
   "outputs": [],
   "source": [
    "import sys\n",
    "sys.path.append(\"../\")\n",
    "\n",
    "from random import random\n",
    "from system import *\n",
    "from atom import Atom \n",
    "\n",
    "atoms = []\n",
    "for x in range(4):\n",
    "    for y in range(4):\n",
    "        atoms.append(Atom([x,y]))\n",
    "\n",
    "system = System(2,float(\"inf\"),atoms)\n",
    "system.colorize_atoms()\n",
    "system.visualize(show=True)\n",
    "system.add_cur_state_to_rdf()\n",
    "system.get_rdf()"
   ]
  },
  {
   "cell_type": "code",
   "execution_count": null,
   "metadata": {},
   "outputs": [],
   "source": []
  }
 ],
 "metadata": {
  "kernelspec": {
   "display_name": "Python 3.10.2 64-bit",
   "language": "python",
   "name": "python3"
  },
  "language_info": {
   "codemirror_mode": {
    "name": "ipython",
    "version": 3
   },
   "file_extension": ".py",
   "mimetype": "text/x-python",
   "name": "python",
   "nbconvert_exporter": "python",
   "pygments_lexer": "ipython3",
   "version": "3.10.2"
  },
  "vscode": {
   "interpreter": {
    "hash": "42b50a1a1b5e0a495ac6d0383e184e0171ebe7baaf546f3025075eec5be57675"
   }
  }
 },
 "nbformat": 4,
 "nbformat_minor": 2
}
