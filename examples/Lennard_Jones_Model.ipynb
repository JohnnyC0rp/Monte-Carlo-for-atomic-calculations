{
 "cells": [
  {
   "cell_type": "code",
   "execution_count": null,
   "metadata": {},
   "outputs": [],
   "source": [
    "import sys\n",
    "sys.path.append(\"../\")\n",
    "\n",
    "from system import *\n",
    "from atom import Atom \n",
    "\n",
    "system = System(2,float(\"inf\"),[Atom([0,0]),Atom([0,0])])\n",
    "vec = (0.01,0)\n",
    "system.move_random_atom(vec)"
   ]
  },
  {
   "cell_type": "code",
   "execution_count": null,
   "metadata": {},
   "outputs": [],
   "source": [
    "x, y = [],[]\n",
    "for _ in range (1000):\n",
    "    x.append(system.atoms[0].get_distance_to(system.atoms[1]))\n",
    "    y.append(system.get_total_E())\n",
    "    system.move_last_atom(vec)"
   ]
  },
  {
   "cell_type": "code",
   "execution_count": null,
   "metadata": {
    "tags": []
   },
   "outputs": [],
   "source": [
    "import plotly.express as px\n",
    "fig = px.line(x=x, y=y)\n",
    "fig.update_layout(yaxis_range=[-1,1],yaxis_title=\"Energy\",xaxis_title=\"Distance\",xaxis_range=[0,5])\n",
    "fig.add_vline( x=x[y.index(min(y))] , line_width=0.5, line_color=\"green\")\n",
    "fig.show()"
   ]
  },
  {
   "cell_type": "code",
   "execution_count": null,
   "metadata": {},
   "outputs": [],
   "source": []
  }
 ],
 "metadata": {
  "kernelspec": {
   "display_name": "Python 3.9.9 64-bit",
   "language": "python",
   "name": "python3"
  },
  "language_info": {
   "codemirror_mode": {
    "name": "ipython",
    "version": 3
   },
   "file_extension": ".py",
   "mimetype": "text/x-python",
   "name": "python",
   "nbconvert_exporter": "python",
   "pygments_lexer": "ipython3",
   "version": "3.9.9"
  },
  "vscode": {
   "interpreter": {
    "hash": "f97ab369e06558018678e2fa9dfbb90171b01cdb8774ddf6cd687be615e0b18f"
   }
  }
 },
 "nbformat": 4,
 "nbformat_minor": 2
}
